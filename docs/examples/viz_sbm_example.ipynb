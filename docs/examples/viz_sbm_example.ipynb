{
 "cells": [
  {
   "cell_type": "code",
   "execution_count": 32,
   "metadata": {},
   "outputs": [
    {
     "name": "stdout",
     "output_type": "stream",
     "text": [
      "The autoreload extension is already loaded. To reload it, use:\n",
      "  %reload_ext autoreload\n"
     ]
    }
   ],
   "source": [
    "%load_ext autoreload\n",
    "\n",
    "%autoreload 2\n",
    "\n",
    "import numpy as np\n",
    "import networkx as nx\n",
    "import matplotlib.pyplot as plt\n"
   ]
  },
  {
   "cell_type": "markdown",
   "metadata": {},
   "source": [
    "### 1 - create a SBM graph and extract the edges list\n"
   ]
  },
  {
   "cell_type": "code",
   "execution_count": 33,
   "metadata": {},
   "outputs": [],
   "source": [
    "size = 75\n",
    "s = size\n",
    "sizes = [s, s, s]\n",
    "probs = [[0.45, 0.05, 0.02], [0.05, 0.45, 0.07], [0.02, 0.07, 0.40]]\n",
    "g = nx.stochastic_block_model(sizes, probs, seed=0)\n",
    "num_nodes = len(g)\n",
    "edges_list = []\n",
    "for source, target in g.edges():\n",
    "    edges_list.append([source, target])\n",
    "edges_list = np.array(edges_list)"
   ]
  },
  {
   "cell_type": "markdown",
   "metadata": {},
   "source": [
    "### 2 - Creates a network superactor and adds to a FURY Scene"
   ]
  },
  {
   "cell_type": "code",
   "execution_count": 38,
   "metadata": {},
   "outputs": [],
   "source": [
    "from helios.fury.actors import FurySuperActorNetwork\n",
    "from fury import window\n",
    "\n",
    "colors_by_block = [[1, 0, 0], [0, 1, 0], [0, 0, 1]]\n",
    "colors = np.array([colors_by_block[i//s] for i in range(len(g))]).astype('float64')\n",
    "markers = [['o', 's', 'd'][i//s]  for i in range(len(g))]\n",
    "\n",
    "edge_colors = []\n",
    "for source, target in g.edges():\n",
    "    c0 = colors[source//s]\n",
    "    c1 = colors[target//s]\n",
    "    edge_colors += [c0, c1]\n",
    "    \n",
    "    \n",
    "centers = np.random.normal(size=(len(g), 3))\n",
    "\n",
    "\n",
    "network_super_actor = FurySuperActorNetwork(\n",
    "        positions=centers,\n",
    "        colors=colors,\n",
    "        scales=1,\n",
    "        node_edge_width=0,\n",
    "        marker=markers,\n",
    "        edges=edges_list\n",
    ")\n",
    "\n",
    "nodes = network_super_actor.nodes.vtk_actor\n",
    "\n",
    "scene = window.Scene()\n",
    "scene.add(nodes)\n",
    "scene.add(network_super_actor.edges.vtk_actor)"
   ]
  },
  {
   "cell_type": "code",
   "execution_count": 22,
   "metadata": {},
   "outputs": [
    {
     "data": {
      "text/plain": [
       "(900, 3)"
      ]
     },
     "execution_count": 22,
     "metadata": {},
     "output_type": "execute_result"
    }
   ],
   "source": [
    "network_super_actor.nodes.colors_geo.shape"
   ]
  },
  {
   "cell_type": "code",
   "execution_count": 26,
   "metadata": {},
   "outputs": [
    {
     "data": {
      "text/plain": [
       "((8702, 3), 8702)"
      ]
     },
     "execution_count": 26,
     "metadata": {},
     "output_type": "execute_result"
    }
   ],
   "source": [
    "network_super_actor.edges.colors_geo.shape, len(edges_list)*2"
   ]
  },
  {
   "cell_type": "markdown",
   "metadata": {},
   "source": [
    "### 3 - Creates a ShowManager FURY Obj."
   ]
  },
  {
   "cell_type": "code",
   "execution_count": 39,
   "metadata": {},
   "outputs": [],
   "source": [
    "from fury import actor, window\n",
    "\n",
    "window_size = [400, 400]\n",
    "showm = window.ShowManager(scene, reset_camera=False, size=(\n",
    "    window_size[0], window_size[1]), order_transparent=False,\n",
    ")"
   ]
  },
  {
   "cell_type": "markdown",
   "metadata": {},
   "source": [
    "### 4- Starts the streaming"
   ]
  },
  {
   "cell_type": "code",
   "execution_count": 40,
   "metadata": {},
   "outputs": [
    {
     "name": "stdout",
     "output_type": "stream",
     "text": [
      "created 20 8 1344\n",
      "url: http://localhost:8489?iframe=1&encoding=mjpeg\n"
     ]
    }
   ],
   "source": [
    "from fury.stream.widget import Widget\n",
    "\n",
    "#widget = Widget(showm, encoding='webrtc')\n",
    "widget = Widget(showm)\n",
    "widget.start()"
   ]
  },
  {
   "cell_type": "code",
   "execution_count": 42,
   "metadata": {},
   "outputs": [
    {
     "data": {
      "text/html": [
       "\n",
       "        <iframe\n",
       "            width=\"100%\"\n",
       "            height=\"300px\"\n",
       "            src=\"http://localhost:8489?iframe=1&encoding=mjpeg\"\n",
       "            frameborder=\"0\"\n",
       "            allowfullscreen\n",
       "        ></iframe>\n",
       "        "
      ],
      "text/plain": [
       "<IPython.lib.display.IFrame at 0x7ff6ac0a6340>"
      ]
     },
     "metadata": {},
     "output_type": "display_data"
    }
   ],
   "source": [
    "widget.return_iframe(300)"
   ]
  },
  {
   "cell_type": "markdown",
   "metadata": {},
   "source": [
    "### 5 - Start Force-Directed async layout\n",
    "\n",
    "- ms equals to 100 means that the vtk_positions will be updated at each 100 ms"
   ]
  },
  {
   "cell_type": "code",
   "execution_count": 43,
   "metadata": {},
   "outputs": [
    {
     "name": "stdout",
     "output_type": "stream",
     "text": [
      "start async helios\n"
     ]
    }
   ],
   "source": [
    "from helios.core.layout import HeliosFr\n",
    "layout = HeliosFr(centers,edges_list,showm, network_super_actor)\n",
    "print('start async helios')\n",
    "layout.start(100)"
   ]
  },
  {
   "cell_type": "markdown",
   "metadata": {},
   "source": [
    "### 6 - Change some network properties"
   ]
  },
  {
   "cell_type": "code",
   "execution_count": 45,
   "metadata": {},
   "outputs": [],
   "source": [
    "network_super_actor.nodes.marker_opacity = .8\n",
    "showm.window.Render()\n",
    "network_super_actor.nodes.edge_width = .1\n",
    "network_super_actor.nodes.Uniforms.edgeColor.value = (255, 255, 255)\n",
    "showm.window.Render()"
   ]
  },
  {
   "cell_type": "code",
   "execution_count": 55,
   "metadata": {},
   "outputs": [
    {
     "data": {
      "text/plain": [
       "array([[1, 0, 0],\n",
       "       [1, 0, 0],\n",
       "       [1, 0, 0],\n",
       "       ...,\n",
       "       [0, 0, 1],\n",
       "       [0, 0, 1],\n",
       "       [0, 0, 1]], dtype=uint8)"
      ]
     },
     "execution_count": 55,
     "metadata": {},
     "output_type": "execute_result"
    }
   ],
   "source": [
    "edge_colors = []\n",
    "for source, target in g.edges():\n",
    "    c0 = colors_by_block[source//s]\n",
    "    c1 = colors_by_block[target//s]\n",
    "    edge_colors += [c0, c1]\n",
    "np.array(edge_colors).astype('uint8')"
   ]
  },
  {
   "cell_type": "code",
   "execution_count": 52,
   "metadata": {},
   "outputs": [],
   "source": [
    "network_super_actor.edges.colors = np.array(edge_colors).astype('uint8')\n",
    "network_super_actor.edges.update()\n",
    "showm.window.Render()"
   ]
  },
  {
   "cell_type": "code",
   "execution_count": 17,
   "metadata": {},
   "outputs": [],
   "source": [
    "newColors = np.random.randint(0,256,(len(g),3)).astype('uint8')\n",
    "network_super_actor.nodes.colors = newColors\n",
    "network_super_actor.nodes.update()\n",
    "showm.window.Render()"
   ]
  },
  {
   "cell_type": "code",
   "execution_count": 9,
   "metadata": {},
   "outputs": [],
   "source": [
    "layout.stop()"
   ]
  },
  {
   "cell_type": "code",
   "execution_count": 8,
   "metadata": {},
   "outputs": [],
   "source": [
    "widget.stop()"
   ]
  },
  {
   "cell_type": "code",
   "execution_count": null,
   "metadata": {},
   "outputs": [],
   "source": []
  }
 ],
 "metadata": {
  "kernelspec": {
   "display_name": "Python 3",
   "language": "python",
   "name": "python3"
  },
  "language_info": {
   "codemirror_mode": {
    "name": "ipython",
    "version": 3
   },
   "file_extension": ".py",
   "mimetype": "text/x-python",
   "name": "python",
   "nbconvert_exporter": "python",
   "pygments_lexer": "ipython3",
   "version": "3.8.5"
  }
 },
 "nbformat": 4,
 "nbformat_minor": 4
}
