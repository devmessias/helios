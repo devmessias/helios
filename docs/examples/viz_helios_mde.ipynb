{
 "cells": [
  {
   "cell_type": "markdown",
   "metadata": {},
   "source": [
    "# Description \n",
    ">This shows an example using helios with the Minimum Distortion Embeddings layout from pymde\n",
    "Helios implements IPC to enhance pymde to allows non-blocking computation\n",
    "\n",
    "## Requirements\n",
    "\n",
    "- networkx\n",
    "- pymde\n",
    "- helios"
   ]
  },
  {
   "cell_type": "code",
   "execution_count": 8,
   "metadata": {},
   "outputs": [
    {
     "name": "stdout",
     "output_type": "stream",
     "text": [
      "The autoreload extension is already loaded. To reload it, use:\n",
      "  %reload_ext autoreload\n"
     ]
    }
   ],
   "source": [
    "%load_ext autoreload\n",
    "\n",
    "%autoreload 2\n",
    "import time\n",
    "import numpy as np\n",
    "import networkx as nx\n",
    "\n",
    "\n",
    "import numpy as np\n",
    "\n",
    "from fury.stream.widget import Widget\n",
    "\n",
    "from helios import NetworkDraw\n"
   ]
  },
  {
   "cell_type": "code",
   "execution_count": 9,
   "metadata": {},
   "outputs": [],
   "source": [
    "size = 100\n",
    "s = size\n",
    "sizes = [s, s, s]\n",
    "probs = np.array([[0.45, 0.05, 0.02], [0.05, 0.45, 0.07], [0.02, 0.07, 0.40]])\n",
    "g = nx.stochastic_block_model(sizes, probs, seed=0)\n",
    "'''\n",
    "pin = .05\n",
    "pout = .1\n",
    "probs = [[pin, pout, 0], [0.0, pin, pout], [pout, 0.0, pin]]\n",
    "#probs = [[pin, pout, 0], [0.0, pin, pout], [pout, 0.0, pin]]\n",
    "\n",
    "g = nx.stochastic_block_model(sizes, probs, seed=0, directed=True)\n",
    "'''\n",
    "num_nodes = len(g)\n",
    "edges_list = []\n",
    "for source, target in g.edges():\n",
    "    edges_list.append([source, target])\n",
    "edges_list = np.array(edges_list)\n"
   ]
  },
  {
   "cell_type": "code",
   "execution_count": 10,
   "metadata": {},
   "outputs": [],
   "source": [
    "\n",
    "\n",
    "# update edge colors\n",
    "colors_by_block = [[1, 0, 0], [0, 1, 0,], [0, 0, 1]]\n",
    "#colors_by_block = [[1, 0, 0, 240], [0, 1, 0, 240], [0, 0, 1, 0]]\n",
    "\n",
    "edge_colors = []\n",
    "for source, target in g.edges():\n",
    "    c0 = colors_by_block[source//s]\n",
    "    c1 = colors_by_block[target//s]\n",
    "    edge_colors += [c0, c1]\n",
    "    \n",
    "colors_by_block = [[1, 0, 0], [0, 1, 0], [0, 0, 1]]\n",
    "colors = np.array(\n",
    "    [colors_by_block[i//s] \n",
    "     for i in range(len(g))]).astype('float64')\n",
    "markers = [['o', 's', 'd'][i//s]  for i in range(len(g))]\n",
    "\n",
    "edge_colors = np.array(edge_colors).astype('float64')\n",
    "    \n",
    "centers = np.random.normal(size=(len(g), 3))\n",
    "node_edge_opacity = .8\n",
    "node_edge_color = [1, 1, 1]\n",
    "\n",
    "node_edge_width = node_edge_opacity\n",
    "node_opacity = node_edge_opacity\n",
    "network_draw = NetworkDraw(\n",
    "        positions=centers,\n",
    "        colors=colors,\n",
    "        scales=0.5,\n",
    "        node_edge_width=.2,\n",
    "        node_edge_opacity=node_edge_opacity,\n",
    "        node_opacity=node_opacity,\n",
    "        node_edge_color=(0, 0, 0),\n",
    "        #marker=markers,\n",
    "        marker='3d',\n",
    "        edge_line_color=edge_colors,\n",
    "        edge_line_opacity=.1,\n",
    "        edge_line_width=1,\n",
    "        #edges=edges_list\n",
    ")\n",
    "\n"
   ]
  },
  {
   "cell_type": "code",
   "execution_count": 11,
   "metadata": {},
   "outputs": [
    {
     "name": "stdout",
     "output_type": "stream",
     "text": [
      "url: http://localhost:7787?iframe=1&encoding=mjpeg\n"
     ]
    }
   ],
   "source": [
    "\n",
    "from fury.stream.widget import Widget\n",
    "#widget = Widget(showm, encoding='webrtc', port=8777)\n",
    "widget = Widget(network_draw.showm)\n",
    "widget.start()\n",
    "time.sleep(2)"
   ]
  },
  {
   "cell_type": "code",
   "execution_count": 12,
   "metadata": {},
   "outputs": [
    {
     "data": {
      "text/html": [
       "\n",
       "        <iframe\n",
       "            width=\"100%\"\n",
       "            height=\"300px\"\n",
       "            src=\"http://localhost:7787?iframe=1&encoding=mjpeg\"\n",
       "            frameborder=\"0\"\n",
       "            allowfullscreen\n",
       "        ></iframe>\n",
       "        "
      ],
      "text/plain": [
       "<IPython.lib.display.IFrame at 0x7f8654061310>"
      ]
     },
     "metadata": {},
     "output_type": "display_data"
    }
   ],
   "source": [
    "widget.return_iframe(300)"
   ]
  },
  {
   "cell_type": "code",
   "execution_count": 14,
   "metadata": {},
   "outputs": [],
   "source": [
    "from helios.layouts.mde import MDE\n",
    "\n",
    "mde = MDE(edges_list, network_draw, use_shortest_path=True)\n"
   ]
  },
  {
   "cell_type": "code",
   "execution_count": 15,
   "metadata": {},
   "outputs": [],
   "source": [
    "mde.start(1, 100, 1)"
   ]
  },
  {
   "cell_type": "code",
   "execution_count": 16,
   "metadata": {},
   "outputs": [],
   "source": [
    "mde.stop()"
   ]
  },
  {
   "cell_type": "code",
   "execution_count": null,
   "metadata": {},
   "outputs": [],
   "source": []
  }
 ],
 "metadata": {
  "kernelspec": {
   "display_name": "Python 3",
   "language": "python",
   "name": "python3"
  },
  "language_info": {
   "codemirror_mode": {
    "name": "ipython",
    "version": 3
   },
   "file_extension": ".py",
   "mimetype": "text/x-python",
   "name": "python",
   "nbconvert_exporter": "python",
   "pygments_lexer": "ipython3",
   "version": "3.8.5"
  }
 },
 "nbformat": 4,
 "nbformat_minor": 4
}
