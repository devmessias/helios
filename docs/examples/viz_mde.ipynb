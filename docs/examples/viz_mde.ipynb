{
 "cells": [
  {
   "cell_type": "code",
   "execution_count": 1,
   "metadata": {},
   "outputs": [],
   "source": [
    "%load_ext autoreload\n",
    "\n",
    "%autoreload 2\n",
    "import time\n",
    "import numpy as np\n",
    "import networkx as nx\n",
    "import pymde\n",
    "\n",
    "import numpy as np\n",
    "import torch\n",
    "\n",
    "from fury.stream.widget import Widget\n",
    "\n",
    "from helios import NetworkDraw\n"
   ]
  },
  {
   "cell_type": "markdown",
   "metadata": {},
   "source": [
    "### 1 - create a SBM graph and extract the edges list\n"
   ]
  },
  {
   "cell_type": "code",
   "execution_count": 2,
   "metadata": {},
   "outputs": [],
   "source": [
    "size = 100\n",
    "s = size\n",
    "sizes = [s, s, s]\n",
    "probs = np.array([[0.45, 0.05, 0.02], [0.05, 0.45, 0.07], [0.02, 0.07, 0.40]])/10\n",
    "g = nx.stochastic_block_model(sizes, probs, seed=0)\n",
    "'''\n",
    "pin = .05\n",
    "pout = .1\n",
    "probs = [[pin, pout, 0], [0.0, pin, pout], [pout, 0.0, pin]]\n",
    "#probs = [[pin, pout, 0], [0.0, pin, pout], [pout, 0.0, pin]]\n",
    "\n",
    "g = nx.stochastic_block_model(sizes, probs, seed=0, directed=True)\n",
    "'''\n",
    "num_nodes = len(g)\n",
    "edges_list = []\n",
    "for source, target in g.edges():\n",
    "    edges_list.append([source, target])\n",
    "edges_list = np.array(edges_list)\n"
   ]
  },
  {
   "cell_type": "code",
   "execution_count": 3,
   "metadata": {},
   "outputs": [],
   "source": [
    "edges_torch = torch.tensor(edges_list)\n",
    "weights_torch = torch.ones(edges_torch.shape[0])\n",
    "g_torch = pymde.Graph.from_edges(edges_torch, weights_torch)"
   ]
  },
  {
   "cell_type": "markdown",
   "metadata": {},
   "source": [
    "### node/edge colors and shape"
   ]
  },
  {
   "cell_type": "code",
   "execution_count": 4,
   "metadata": {},
   "outputs": [],
   "source": [
    "# update edge colors\n",
    "colors_by_block = [[1, 0, 0], [0, 1, 0,], [0, 0, 1]]\n",
    "#colors_by_block = [[1, 0, 0, 240], [0, 1, 0, 240], [0, 0, 1, 0]]\n",
    "\n",
    "edge_colors = []\n",
    "for source, target in g.edges():\n",
    "    c0 = colors_by_block[source//s]\n",
    "    c1 = colors_by_block[target//s]\n",
    "    edge_colors += [c0, c1]\n",
    "    \n",
    "colors_by_block = [[1, 0, 0], [0, 1, 0], [0, 0, 1]]\n",
    "colors = np.array(\n",
    "    [colors_by_block[i//s] \n",
    "     for i in range(len(g))]).astype('float64')\n",
    "markers = [['o', 's', 'd'][i//s]  for i in range(len(g))]\n",
    "\n",
    "edge_colors = np.array(edge_colors).astype('float64')"
   ]
  },
  {
   "cell_type": "markdown",
   "metadata": {},
   "source": [
    "### 2 - Creates a network superactor and adds to a FURY Scene"
   ]
  },
  {
   "cell_type": "code",
   "execution_count": 5,
   "metadata": {},
   "outputs": [],
   "source": [
    "\n",
    "\n",
    "\n",
    "    \n",
    "centers = np.random.normal(size=(len(g), 2))\n",
    "node_edge_opacity = .8\n",
    "node_edge_color = [1, 1, 1]\n",
    "\n",
    "node_edge_width = node_edge_opacity\n",
    "node_opacity = node_edge_opacity\n",
    "network_draw = NetworkDraw(\n",
    "        positions=centers,\n",
    "        colors=colors,\n",
    "        scales=.2,\n",
    "        node_edge_width=.2,\n",
    "        node_edge_opacity=node_edge_opacity,\n",
    "        node_opacity=node_opacity,\n",
    "        node_edge_color=node_edge_color,\n",
    "        marker=markers,\n",
    "        edge_line_color=edge_colors,\n",
    "        edge_line_width=1,\n",
    "        edges=edges_list\n",
    ")\n",
    "\n"
   ]
  },
  {
   "cell_type": "markdown",
   "metadata": {},
   "source": [
    "### 4- Starts the streaming"
   ]
  },
  {
   "cell_type": "code",
   "execution_count": 6,
   "metadata": {},
   "outputs": [
    {
     "name": "stdout",
     "output_type": "stream",
     "text": [
      "url: http://localhost:7084?iframe=1&encoding=mjpeg\n"
     ]
    }
   ],
   "source": [
    "from fury.stream.widget import Widget\n",
    "#widget = Widget(showm, encoding='webrtc', port=8777)\n",
    "widget = Widget(network_draw.showm)\n",
    "widget.start()\n",
    "time.sleep(2)"
   ]
  },
  {
   "cell_type": "code",
   "execution_count": 7,
   "metadata": {},
   "outputs": [
    {
     "data": {
      "text/html": [
       "\n",
       "        <iframe\n",
       "            width=\"100%\"\n",
       "            height=\"300px\"\n",
       "            src=\"http://localhost:7084?iframe=1&encoding=mjpeg\"\n",
       "            frameborder=\"0\"\n",
       "            allowfullscreen\n",
       "        ></iframe>\n",
       "        "
      ],
      "text/plain": [
       "<IPython.lib.display.IFrame at 0x7fbbb7aba760>"
      ]
     },
     "metadata": {},
     "output_type": "display_data"
    }
   ],
   "source": [
    "\n",
    "widget.return_iframe(300)"
   ]
  },
  {
   "cell_type": "markdown",
   "metadata": {},
   "source": [
    "### 5 - Minimum distortion embedding\n",
    "\n"
   ]
  },
  {
   "cell_type": "code",
   "execution_count": 8,
   "metadata": {},
   "outputs": [],
   "source": [
    "shortest_paths_graph = pymde.preprocess.graph.shortest_paths(g_torch)"
   ]
  },
  {
   "cell_type": "code",
   "execution_count": 9,
   "metadata": {},
   "outputs": [],
   "source": [
    "mde = pymde.MDE(\n",
    "    len(g),\n",
    "    2,\n",
    "    shortest_paths_graph.edges,\n",
    "    pymde.losses.WeightedQuadratic(shortest_paths_graph.distances))\n"
   ]
  },
  {
   "cell_type": "code",
   "execution_count": 10,
   "metadata": {},
   "outputs": [],
   "source": [
    "embedding = mde.embed()"
   ]
  },
  {
   "cell_type": "code",
   "execution_count": 11,
   "metadata": {},
   "outputs": [],
   "source": [
    "pos = embedding.cpu().numpy().astype('float64')\n",
    "\n"
   ]
  },
  {
   "cell_type": "code",
   "execution_count": 12,
   "metadata": {},
   "outputs": [],
   "source": [
    "network_draw.positions = pos\n",
    "network_draw.Render()"
   ]
  },
  {
   "cell_type": "code",
   "execution_count": 20,
   "metadata": {},
   "outputs": [],
   "source": [
    "widget.stop()"
   ]
  },
  {
   "cell_type": "markdown",
   "metadata": {},
   "source": [
    "# All-connected and cubic distortion function 2d plot"
   ]
  },
  {
   "cell_type": "code",
   "execution_count": 13,
   "metadata": {},
   "outputs": [],
   "source": [
    "n_items = 20\n",
    "edges = pymde.all_edges(n_items)"
   ]
  },
  {
   "cell_type": "code",
   "execution_count": 14,
   "metadata": {},
   "outputs": [],
   "source": [
    "centers = np.random.normal(size=(n_items, 2))\n",
    "from helios import NetworkDraw\n",
    "\n",
    "network2 = NetworkDraw(\n",
    "        positions=centers, \n",
    "        scales=.2,\n",
    "        node_edge_width=.2,\n",
    "        edge_line_color=(0, 0, 0),\n",
    "        marker='3d',\n",
    "        edges=edges.cpu().numpy()\n",
    ")\n"
   ]
  },
  {
   "cell_type": "code",
   "execution_count": 15,
   "metadata": {},
   "outputs": [],
   "source": [
    "network2.nodes.edge_width = 0"
   ]
  },
  {
   "cell_type": "code",
   "execution_count": 16,
   "metadata": {},
   "outputs": [
    {
     "name": "stdout",
     "output_type": "stream",
     "text": [
      "url: http://localhost:7083?iframe=1&encoding=mjpeg\n"
     ]
    }
   ],
   "source": [
    "widget2 = Widget(network2.showm)\n",
    "widget2.start()\n",
    "time.sleep(3)"
   ]
  },
  {
   "cell_type": "code",
   "execution_count": 17,
   "metadata": {},
   "outputs": [
    {
     "data": {
      "text/html": [
       "\n",
       "        <iframe\n",
       "            width=\"100%\"\n",
       "            height=\"300px\"\n",
       "            src=\"http://localhost:7083?iframe=1&encoding=mjpeg\"\n",
       "            frameborder=\"0\"\n",
       "            allowfullscreen\n",
       "        ></iframe>\n",
       "        "
      ],
      "text/plain": [
       "<IPython.lib.display.IFrame at 0x7fbbb41bd760>"
      ]
     },
     "metadata": {},
     "output_type": "display_data"
    }
   ],
   "source": [
    "widget2.return_iframe(300)"
   ]
  },
  {
   "cell_type": "code",
   "execution_count": 18,
   "metadata": {},
   "outputs": [],
   "source": [
    "mde = pymde.MDE(\n",
    "    n_items,\n",
    "    embedding_dim=2,\n",
    "    edges=edges,\n",
    "    distortion_function=pymde.penalties.Cubic(weights=1.0),\n",
    "    constraint=pymde.Standardized())\n",
    "embedding = mde.embed()\n"
   ]
  },
  {
   "cell_type": "code",
   "execution_count": 19,
   "metadata": {},
   "outputs": [],
   "source": [
    "pos2d = embedding.cpu().numpy().astype('float64')"
   ]
  },
  {
   "cell_type": "code",
   "execution_count": 20,
   "metadata": {},
   "outputs": [],
   "source": [
    "network2.positions = pos2d\n",
    "network2.Render()"
   ]
  },
  {
   "cell_type": "code",
   "execution_count": null,
   "metadata": {},
   "outputs": [],
   "source": []
  }
 ],
 "metadata": {
  "kernelspec": {
   "display_name": "Python 3",
   "language": "python",
   "name": "python3"
  },
  "language_info": {
   "codemirror_mode": {
    "name": "ipython",
    "version": 3
   },
   "file_extension": ".py",
   "mimetype": "text/x-python",
   "name": "python",
   "nbconvert_exporter": "python",
   "pygments_lexer": "ipython3",
   "version": "3.8.5"
  }
 },
 "nbformat": 4,
 "nbformat_minor": 4
}
