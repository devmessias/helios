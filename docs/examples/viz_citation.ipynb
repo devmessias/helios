{
 "cells": [
  {
   "cell_type": "code",
   "execution_count": 39,
   "metadata": {},
   "outputs": [
    {
     "name": "stdout",
     "output_type": "stream",
     "text": [
      "The autoreload extension is already loaded. To reload it, use:\n",
      "  %reload_ext autoreload\n"
     ]
    }
   ],
   "source": [
    "%load_ext autoreload\n",
    "%autoreload 2\n",
    "\n",
    "import numpy as np"
   ]
  },
  {
   "cell_type": "markdown",
   "metadata": {},
   "source": [
    "**REQUIREMENTS**\n",
    "\n",
    "Python >=3.8\n"
   ]
  },
  {
   "cell_type": "markdown",
   "metadata": {},
   "source": [
    "### 1 - create a SBM graph and extract the edges list\n"
   ]
  },
  {
   "cell_type": "code",
   "execution_count": 40,
   "metadata": {},
   "outputs": [
    {
     "name": "stdout",
     "output_type": "stream",
     "text": [
      "Dataset is already in place. If you want to fetch it again please first remove the folder /home/devmessias/.fury/examples/wiki_nw \n",
      "More information about complex networks can be found in this papers: https://arxiv.org/abs/0711.3199\n"
     ]
    }
   ],
   "source": [
    "from os.path import join as pjoin\n",
    "from fury import window, colormap as cmap\n",
    "import numpy as np\n",
    "from fury.data.fetcher import fetch_viz_wiki_nw\n",
    "\n",
    "files, folder = fetch_viz_wiki_nw()\n",
    "categories_file, edges_file, positions_file = sorted(files.keys())\n",
    "\n",
    "###############################################################################\n",
    "# We read our datasets\n",
    "\n",
    "\n",
    "categories = np.loadtxt(pjoin(folder, categories_file), dtype=str)\n",
    "edges_list = np.loadtxt(pjoin(folder, edges_file), dtype=int)\n",
    "num_nodes = len(categories)\n",
    "\n",
    "positions = np.random.normal(size=(num_nodes, 3))\n",
    "###############################################################################\n",
    "# We attribute a color to each category of our dataset which correspond to our\n",
    "# nodes colors.\n",
    "\n",
    "category2index = {category: i\n",
    "                  for i, category in enumerate(np.unique(categories))}\n",
    "\n",
    "\n",
    "index2category = np.unique(categories)\n",
    "\n",
    "categoryColors = cmap.distinguishable_colormap(nb_colors=len(index2category))\n",
    "\n",
    "categoryMarkers = ['o', 's', 'd']\n",
    "\n",
    "colors = np.array([categoryColors[category2index[category]]\n",
    "                   for category in categories])\n",
    "\n",
    "markers = [categoryMarkers[category2index[category]]\n",
    "                   for category in categories]"
   ]
  },
  {
   "cell_type": "code",
   "execution_count": 41,
   "metadata": {},
   "outputs": [],
   "source": [
    "edgesColors = []\n",
    "for source, target in edges_list:\n",
    "    edgesColors.append(np.array([colors[source], colors[target]]))\n",
    "\n",
    "edgesColors = np.average(np.array(edgesColors), axis=1)"
   ]
  },
  {
   "cell_type": "markdown",
   "metadata": {},
   "source": [
    "### 2 - Creates a network superactor and adds to a FURY Scene"
   ]
  },
  {
   "cell_type": "code",
   "execution_count": 42,
   "metadata": {},
   "outputs": [],
   "source": [
    "from helios.fury.actors import FurySuperActorNetwork\n",
    "from fury import window\n",
    "\n",
    "\n",
    "network_super_actor = FurySuperActorNetwork(\n",
    "        positions=positions,\n",
    "        colors=colors,\n",
    "        scales=1,\n",
    "        node_edge_width=0,\n",
    "        marker=markers,\n",
    "        edges=edges_list,\n",
    "        edge_line_color=edgesColors\n",
    ")\n",
    "\n",
    "\n",
    "scene = window.Scene()\n",
    "scene.add(network_super_actor.nodes.vtk_actor)\n",
    "scene.add(network_super_actor.edges.vtk_actor)"
   ]
  },
  {
   "cell_type": "markdown",
   "metadata": {},
   "source": [
    "### 3 - Creates a ShowManager FURY Obj."
   ]
  },
  {
   "cell_type": "code",
   "execution_count": 43,
   "metadata": {},
   "outputs": [],
   "source": [
    "from fury import actor, window\n",
    "\n",
    "window_size = [400, 400]\n",
    "showm = window.ShowManager(scene, reset_camera=False, size=(\n",
    "    window_size[0], window_size[1]), order_transparent=False,\n",
    ")"
   ]
  },
  {
   "cell_type": "markdown",
   "metadata": {},
   "source": [
    "### 4- Starts the streaming"
   ]
  },
  {
   "cell_type": "code",
   "execution_count": 44,
   "metadata": {},
   "outputs": [
    {
     "name": "stdout",
     "output_type": "stream",
     "text": [
      "created 20 8 1344\n",
      "url: http://localhost:8410?iframe=1&encoding=webrtc\n"
     ]
    }
   ],
   "source": [
    "from fury.stream.widget import Widget\n",
    "\n",
    "widget = Widget(showm, encoding='webrtc')\n",
    "#widget = Widget(showm)\n",
    "widget.start()"
   ]
  },
  {
   "cell_type": "code",
   "execution_count": 46,
   "metadata": {},
   "outputs": [
    {
     "data": {
      "text/html": [
       "\n",
       "        <iframe\n",
       "            width=\"100%\"\n",
       "            height=\"300px\"\n",
       "            src=\"http://localhost:8410?iframe=1&encoding=webrtc\"\n",
       "            frameborder=\"0\"\n",
       "            allowfullscreen\n",
       "        ></iframe>\n",
       "        "
      ],
      "text/plain": [
       "<IPython.lib.display.IFrame at 0x7ff1773964c0>"
      ]
     },
     "metadata": {},
     "output_type": "display_data"
    }
   ],
   "source": [
    "widget.return_iframe(300)"
   ]
  },
  {
   "cell_type": "markdown",
   "metadata": {},
   "source": [
    "### 5 - Start Force-Directed async layout\n",
    "\n",
    "- ms equals to 100 means that the vtk_positions will be updated at each 100 ms"
   ]
  },
  {
   "cell_type": "code",
   "execution_count": 55,
   "metadata": {},
   "outputs": [
    {
     "name": "stdout",
     "output_type": "stream",
     "text": [
      "start async helios\n"
     ]
    }
   ],
   "source": [
    "from helios.core.layout import HeliosFr\n",
    "layout = HeliosFr(positions,edges_list,showm, network_super_actor, update_interval_workers=50)\n",
    "print('start async helios')\n",
    "# if you want to disable the auto-update position chose a ms <0\n",
    "ms = 60\n",
    "layout.start(ms)"
   ]
  },
  {
   "cell_type": "code",
   "execution_count": 63,
   "metadata": {},
   "outputs": [],
   "source": [
    "# if you passed ms<0  execute this cell\n",
    "layout.update_in_vtk()"
   ]
  },
  {
   "cell_type": "markdown",
   "metadata": {},
   "source": [
    "### 6 - Change some network properties"
   ]
  },
  {
   "cell_type": "code",
   "execution_count": 54,
   "metadata": {},
   "outputs": [],
   "source": [
    "network_super_actor.nodes.marker_opacity = .5\n",
    "showm.window.Render()\n",
    "network_super_actor.nodes.edge_width = .1\n",
    "network_super_actor.nodes.Uniforms.edgeColor.value = (255, 255, 255)\n",
    "showm.window.Render()"
   ]
  },
  {
   "cell_type": "code",
   "execution_count": 64,
   "metadata": {},
   "outputs": [],
   "source": [
    "layout.stop()"
   ]
  },
  {
   "cell_type": "code",
   "execution_count": 38,
   "metadata": {},
   "outputs": [],
   "source": [
    "widget.stop()"
   ]
  },
  {
   "cell_type": "code",
   "execution_count": null,
   "metadata": {},
   "outputs": [],
   "source": []
  }
 ],
 "metadata": {
  "kernelspec": {
   "display_name": "Python 3",
   "language": "python",
   "name": "python3"
  },
  "language_info": {
   "codemirror_mode": {
    "name": "ipython",
    "version": 3
   },
   "file_extension": ".py",
   "mimetype": "text/x-python",
   "name": "python",
   "nbconvert_exporter": "python",
   "pygments_lexer": "ipython3",
   "version": "3.8.5"
  }
 },
 "nbformat": 4,
 "nbformat_minor": 4
}
