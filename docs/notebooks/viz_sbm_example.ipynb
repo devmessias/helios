{
 "cells": [
  {
   "cell_type": "code",
   "execution_count": 22,
   "metadata": {},
   "outputs": [
    {
     "name": "stdout",
     "output_type": "stream",
     "text": [
      "The autoreload extension is already loaded. To reload it, use:\n",
      "  %reload_ext autoreload\n"
     ]
    }
   ],
   "source": [
    "%load_ext autoreload\n",
    "\n",
    "%autoreload 2\n",
    "\n",
    "import numpy as np\n",
    "import networkx as nx\n",
    "import time"
   ]
  },
  {
   "cell_type": "markdown",
   "metadata": {},
   "source": [
    "### 1 - create a SBM graph and extract the edges list\n"
   ]
  },
  {
   "cell_type": "code",
   "execution_count": 31,
   "metadata": {},
   "outputs": [],
   "source": [
    "size = 1000\n",
    "s = size\n",
    "sizes = [s, s, s]\n",
    "probs = np.array([[0.45, 0.05, 0.02], [0.05, 0.45, 0.07], [0.02, 0.07, 0.40]])/10\n",
    "g = nx.stochastic_block_model(sizes, probs, seed=0)\n",
    "'''\n",
    "pin = .05\n",
    "pout = .1\n",
    "probs = [[pin, pout, 0], [0.0, pin, pout], [pout, 0.0, pin]]\n",
    "#probs = [[pin, pout, 0], [0.0, pin, pout], [pout, 0.0, pin]]\n",
    "\n",
    "g = nx.stochastic_block_model(sizes, probs, seed=0, directed=True)\n",
    "'''\n",
    "num_nodes = len(g)\n",
    "edges_list = []\n",
    "for source, target in g.edges():\n",
    "    edges_list.append([source, target])\n",
    "edges_list = np.array(edges_list)\n"
   ]
  },
  {
   "cell_type": "markdown",
   "metadata": {},
   "source": [
    "### node/edge colors and shape"
   ]
  },
  {
   "cell_type": "code",
   "execution_count": 37,
   "metadata": {},
   "outputs": [
    {
     "name": "stderr",
     "output_type": "stream",
     "text": [
      "Exception in thread Thread-63671:\n",
      "Exception in thread Thread-63670:\n",
      "Traceback (most recent call last):\n",
      "Traceback (most recent call last):\n",
      "  File \"/home/devmessias/anaconda3/lib/python3.8/threading.py\", line 932, in _bootstrap_inner\n",
      "  File \"/home/devmessias/anaconda3/lib/python3.8/threading.py\", line 932, in _bootstrap_inner\n",
      "        self.run()\n",
      "  File \"/home/devmessias/anaconda3/lib/python3.8/threading.py\", line 1254, in run\n",
      "self.run()\n",
      "  File \"/home/devmessias/anaconda3/lib/python3.8/threading.py\", line 1254, in run\n",
      "        self.function(*self.args, **self.kwargs)\n",
      "  File \"/home/devmessias/phd/fury/fury/stream/tools.py\", line 855, in _run\n",
      "self.function(*self.args, **self.kwargs)\n",
      "    self.callback(*self.args, **self.kwargs)\n",
      "  File \"/home/devmessias/phd/fury/fury/stream/client.py\", line 202, in interaction_callback\n",
      "  File \"/home/devmessias/phd/fury/fury/stream/tools.py\", line 855, in _run\n",
      "    ts = time.time()*1000\n",
      "NameError: name 'time' is not defined\n",
      "    self.callback(*self.args, **self.kwargs)\n",
      "  File \"/home/devmessias/phd/fury/fury/stream/client.py\", line 31, in callback_stream_client\n",
      "    np_arr = np.frombuffer(vtk_array, dtype='uint8')\n",
      "NameError: name 'np' is not defined\n"
     ]
    }
   ],
   "source": [
    "# update edge colors\n",
    "colors_by_block = [[1, 0, 0], [0, 1, 0,], [0, 0, 1]]\n",
    "#colors_by_block = [[1, 0, 0, 240], [0, 1, 0, 240], [0, 0, 1, 0]]\n",
    "\n",
    "edge_colors = []\n",
    "for source, target in g.edges():\n",
    "    c0 = colors_by_block[source//s]\n",
    "    c1 = colors_by_block[target//s]\n",
    "    edge_colors += [c0, c1]\n",
    "    \n",
    "colors_by_block = [[1, 0, 0], [0, 1, 0], [0, 0, 1]]\n",
    "colors = np.array(\n",
    "    [colors_by_block[i//s] \n",
    "     for i in range(len(g))]).astype('float64')\n",
    "\n",
    "\n",
    "markers = [['o', 's', 'd'][i//s]  for i in range(len(g))]\n",
    "edge_colors = np.array(edge_colors).astype('float64')"
   ]
  },
  {
   "cell_type": "markdown",
   "metadata": {},
   "source": [
    "### 2 - Creates a network superactor and adds to a FURY Scene"
   ]
  },
  {
   "cell_type": "code",
   "execution_count": 38,
   "metadata": {},
   "outputs": [],
   "source": [
    "from helios import NetworkDraw\n",
    "    \n",
    "centers = np.random.normal(size=(len(g), 3))\n",
    "test_uniforms = True\n",
    "if test_uniforms:\n",
    "    node_edge_opacity = .8\n",
    "    node_edge_color = [255, 255, 255]\n",
    "else:\n",
    "    node_edge_opacity = np.random.uniform(size=len(g))\n",
    "    node_edge_color = np.array(colors)\n",
    "node_edge_width = node_edge_opacity\n",
    "node_opacity = node_edge_opacity\n",
    "network_draw = NetworkDraw(\n",
    "        positions=centers,\n",
    "        edges=edges_list,\n",
    "        colors=colors,\n",
    "        scales=1,\n",
    "        node_edge_width=0,\n",
    "        node_edge_opacity=node_edge_opacity,\n",
    "        node_opacity=node_opacity,\n",
    "        node_edge_color=node_edge_color,\n",
    "        marker='3d',\n",
    "        edge_line_color=edge_colors,\n",
    "        edge_line_opacity=.8,\n",
    "        edge_line_width=1,\n",
    "\n",
    ")\n",
    "\n"
   ]
  },
  {
   "cell_type": "code",
   "execution_count": 39,
   "metadata": {},
   "outputs": [],
   "source": [
    "#print(dir(network_super_actor.edges.vtk_actor.GetProperty()))"
   ]
  },
  {
   "cell_type": "markdown",
   "metadata": {},
   "source": [
    "### 4- Starts the streaming"
   ]
  },
  {
   "cell_type": "code",
   "execution_count": 40,
   "metadata": {},
   "outputs": [
    {
     "name": "stdout",
     "output_type": "stream",
     "text": [
      "16\n",
      "url: http://localhost:7217?iframe=1&encoding=mjpeg\n"
     ]
    }
   ],
   "source": [
    "from fury.stream.widget import Widget\n",
    "#widget = Widget(showm, encoding='webrtc', port=8777)\n",
    "widget = Widget(network_draw.showm, ms_stream=16)\n",
    "widget.start()\n",
    "time.sleep(2)"
   ]
  },
  {
   "cell_type": "code",
   "execution_count": 41,
   "metadata": {},
   "outputs": [
    {
     "data": {
      "text/html": [
       "\n",
       "        <iframe\n",
       "            width=\"100%\"\n",
       "            height=\"300px\"\n",
       "            src=\"http://localhost:7217?iframe=1&encoding=mjpeg\"\n",
       "            frameborder=\"0\"\n",
       "            allowfullscreen\n",
       "        ></iframe>\n",
       "        "
      ],
      "text/plain": [
       "<IPython.lib.display.IFrame at 0x7fe82d061370>"
      ]
     },
     "metadata": {},
     "output_type": "display_data"
    }
   ],
   "source": [
    "widget.return_iframe(300)"
   ]
  },
  {
   "cell_type": "code",
   "execution_count": null,
   "metadata": {},
   "outputs": [],
   "source": [
    "network_draw.showm.scene.background((1, 1,1))\n",
    "network_draw.refresh()"
   ]
  },
  {
   "cell_type": "markdown",
   "metadata": {},
   "source": [
    "### 5 - Start Force-Directed async layout\n",
    "\n",
    "- ms equals to 100 means that the vtk_positions will be updated at each 100 ms"
   ]
  },
  {
   "cell_type": "code",
   "execution_count": 29,
   "metadata": {},
   "outputs": [],
   "source": [
    "from helios.layouts import HeliosFr\n",
    "layout = HeliosFr(edges_list,network_draw, update_interval_workers=10)"
   ]
  },
  {
   "cell_type": "code",
   "execution_count": 30,
   "metadata": {},
   "outputs": [],
   "source": [
    "layout.start(20)"
   ]
  },
  {
   "cell_type": "code",
   "execution_count": 10,
   "metadata": {},
   "outputs": [],
   "source": [
    "layout.stop()"
   ]
  },
  {
   "cell_type": "markdown",
   "metadata": {},
   "source": [
    "### 6 - Change some network properties"
   ]
  },
  {
   "cell_type": "code",
   "execution_count": 10,
   "metadata": {},
   "outputs": [],
   "source": [
    "if not test_uniforms:\n",
    "    network_draw.nodes.edge_width = np.ones(len(g))/2\n",
    "    network_draw.nodes.edge_opacity = np.ones(len(g))/2\n",
    "    network_draw.nodes.marker_opacity = np.random.uniform(size=len(g))\n",
    "    network_draw.nodes.edge_color = np.ones((len(g), 3))\n",
    "    network_draw.nodes.edge_color = colors - colors/2\n",
    "\n",
    "else:\n",
    "    network_draw.nodes.edge_width = 0\n",
    "    network_draw.nodes.edge_opacity = .5\n",
    "    network_draw.nodes.marker_opacity = .5\n",
    "    network_draw.nodes.edge_color = [1, 1, 1]\n",
    "\n",
    "\n",
    "network_draw.Render()\n"
   ]
  },
  {
   "cell_type": "code",
   "execution_count": 48,
   "metadata": {},
   "outputs": [],
   "source": [
    "layout.stop()"
   ]
  },
  {
   "cell_type": "code",
   "execution_count": 49,
   "metadata": {},
   "outputs": [],
   "source": [
    "widget.stop()"
   ]
  }
 ],
 "metadata": {
  "kernelspec": {
   "display_name": "Python 3",
   "language": "python",
   "name": "python3"
  },
  "language_info": {
   "codemirror_mode": {
    "name": "ipython",
    "version": 3
   },
   "file_extension": ".py",
   "mimetype": "text/x-python",
   "name": "python",
   "nbconvert_exporter": "python",
   "pygments_lexer": "ipython3",
   "version": "3.8.5"
  }
 },
 "nbformat": 4,
 "nbformat_minor": 4
}
